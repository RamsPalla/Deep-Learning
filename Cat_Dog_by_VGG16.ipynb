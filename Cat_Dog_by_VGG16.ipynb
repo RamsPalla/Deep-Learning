{
  "cells": [
    {
      "cell_type": "markdown",
      "metadata": {
        "id": "G_On-uhGoQo_"
      },
      "source": [
        "## Transfer Learning VGG 16 using Keras"
      ]
    },
    {
      "cell_type": "code",
      "execution_count": 10,
      "metadata": {
        "colab": {
          "base_uri": "https://localhost:8080/"
        },
        "id": "COCzcPGroQpC",
        "outputId": "913f3997-befc-481c-8f14-51c140dbd2f5"
      },
      "outputs": [
        {
          "output_type": "stream",
          "name": "stdout",
          "text": [
            "Sat Mar 11 10:19:26 2023       \n",
            "+-----------------------------------------------------------------------------+\n",
            "| NVIDIA-SMI 525.85.12    Driver Version: 525.85.12    CUDA Version: 12.0     |\n",
            "|-------------------------------+----------------------+----------------------+\n",
            "| GPU  Name        Persistence-M| Bus-Id        Disp.A | Volatile Uncorr. ECC |\n",
            "| Fan  Temp  Perf  Pwr:Usage/Cap|         Memory-Usage | GPU-Util  Compute M. |\n",
            "|                               |                      |               MIG M. |\n",
            "|===============================+======================+======================|\n",
            "|   0  Tesla T4            Off  | 00000000:00:04.0 Off |                    0 |\n",
            "| N/A   58C    P0    28W /  70W |      0MiB / 15360MiB |      0%      Default |\n",
            "|                               |                      |                  N/A |\n",
            "+-------------------------------+----------------------+----------------------+\n",
            "                                                                               \n",
            "+-----------------------------------------------------------------------------+\n",
            "| Processes:                                                                  |\n",
            "|  GPU   GI   CI        PID   Type   Process name                  GPU Memory |\n",
            "|        ID   ID                                                   Usage      |\n",
            "|=============================================================================|\n",
            "|  No running processes found                                                 |\n",
            "+-----------------------------------------------------------------------------+\n"
          ]
        }
      ],
      "source": [
        "!nvidia-smi"
      ]
    },
    {
      "cell_type": "code",
      "execution_count": 11,
      "metadata": {
        "colab": {
          "base_uri": "https://localhost:8080/"
        },
        "id": "YcHqtmlxoQpD",
        "outputId": "781da3d3-592b-4fdd-d347-58d0e0a1325f"
      },
      "outputs": [
        {
          "output_type": "stream",
          "name": "stdout",
          "text": [
            "2.11.0\n"
          ]
        }
      ],
      "source": [
        "import tensorflow as tf\n",
        "print(tf.__version__)"
      ]
    },
    {
      "cell_type": "code",
      "execution_count": 12,
      "metadata": {
        "id": "CbJjhNbzoQpE"
      },
      "outputs": [],
      "source": [
        "# import the libraries as shown below\n",
        "\n",
        "from tensorflow.keras.layers import Input, Lambda, Dense, Flatten\n",
        "from tensorflow.keras.models import Model\n",
        "from tensorflow.keras.applications.vgg16 import VGG16\n",
        "from tensorflow.keras.preprocessing import image\n",
        "from tensorflow.keras.preprocessing.image import ImageDataGenerator,load_img\n",
        "from tensorflow.keras.models import Sequential\n",
        "import numpy as np\n",
        "from glob import glob"
      ]
    },
    {
      "cell_type": "code",
      "source": [
        "from google.colab import drive\n",
        "drive.mount('/content/drive')"
      ],
      "metadata": {
        "colab": {
          "base_uri": "https://localhost:8080/"
        },
        "id": "2HOVb0wfuUdI",
        "outputId": "2eecbc80-c34b-40d5-d5e9-f8f193fcfb4a"
      },
      "execution_count": 13,
      "outputs": [
        {
          "output_type": "stream",
          "name": "stdout",
          "text": [
            "Drive already mounted at /content/drive; to attempt to forcibly remount, call drive.mount(\"/content/drive\", force_remount=True).\n"
          ]
        }
      ]
    },
    {
      "cell_type": "code",
      "source": [
        "ROOT_PATH = '/content/drive/MyDrive/Deep Learning Project'"
      ],
      "metadata": {
        "id": "LSscBP_Nul3k"
      },
      "execution_count": 14,
      "outputs": []
    },
    {
      "cell_type": "code",
      "source": [
        "!pwd"
      ],
      "metadata": {
        "colab": {
          "base_uri": "https://localhost:8080/"
        },
        "id": "e1jhD1joXxNH",
        "outputId": "3cacdc13-caff-4ad1-c88f-b013d620f9e0"
      },
      "execution_count": 15,
      "outputs": [
        {
          "output_type": "stream",
          "name": "stdout",
          "text": [
            "/content\n"
          ]
        }
      ]
    },
    {
      "cell_type": "code",
      "source": [
        "import os\n",
        "os.chdir(ROOT_PATH)\n",
        "os.getcwd()"
      ],
      "metadata": {
        "colab": {
          "base_uri": "https://localhost:8080/",
          "height": 35
        },
        "id": "UmIsJIoTu1Nv",
        "outputId": "88882776-a5bc-4d80-ce31-cfc60a208c9d"
      },
      "execution_count": 16,
      "outputs": [
        {
          "output_type": "execute_result",
          "data": {
            "text/plain": [
              "'/content/drive/MyDrive/Deep Learning Project'"
            ],
            "application/vnd.google.colaboratory.intrinsic+json": {
              "type": "string"
            }
          },
          "metadata": {},
          "execution_count": 16
        }
      ]
    },
    {
      "cell_type": "code",
      "source": [
        "!ls"
      ],
      "metadata": {
        "colab": {
          "base_uri": "https://localhost:8080/"
        },
        "id": "tdTuQySNycSg",
        "outputId": "d4c94772-4949-461f-cb4d-bd43cff04ff6"
      },
      "execution_count": 17,
      "outputs": [
        {
          "output_type": "stream",
          "name": "stdout",
          "text": [
            "'Cat-Dog by VGG16.ipynb'   cat.jpg   dog.jpg   PetImages\n"
          ]
        }
      ]
    },
    {
      "cell_type": "code",
      "execution_count": 18,
      "metadata": {
        "id": "JJRs9wzsoQpE"
      },
      "outputs": [],
      "source": [
        "# re-size all the images to this\n",
        "IMAGE_SIZE = [224, 224]\n",
        "\n",
        "train_path = 'PetImages/train'\n",
        "valid_path = 'PetImages/validation'\n"
      ]
    },
    {
      "cell_type": "code",
      "execution_count": 20,
      "metadata": {
        "id": "5FOgov0ooQpE"
      },
      "outputs": [],
      "source": [
        "# Import the VGG16 library as shown below and add preprocessing layer to the front of VGG\n",
        "# Here we will be using imagenet weights    \n",
        "\n",
        "vgg16 = VGG16(input_shape=IMAGE_SIZE + [3], weights='imagenet', include_top=False)\n"
      ]
    },
    {
      "cell_type": "code",
      "source": [
        "# don't train existing weights\n",
        "for layer in vgg16.layers:\n",
        "  print(layer)"
      ],
      "metadata": {
        "colab": {
          "base_uri": "https://localhost:8080/"
        },
        "id": "hgy8jszDZI1E",
        "outputId": "1e7628c2-e46e-4a0b-8f10-0799d5441f85"
      },
      "execution_count": 21,
      "outputs": [
        {
          "output_type": "stream",
          "name": "stdout",
          "text": [
            "<keras.engine.input_layer.InputLayer object at 0x7f8c3819fc10>\n",
            "<keras.layers.convolutional.conv2d.Conv2D object at 0x7f8c3819fd60>\n",
            "<keras.layers.convolutional.conv2d.Conv2D object at 0x7f8c3819ff10>\n",
            "<keras.layers.pooling.max_pooling2d.MaxPooling2D object at 0x7f8c38152250>\n",
            "<keras.layers.convolutional.conv2d.Conv2D object at 0x7f8c3814d730>\n",
            "<keras.layers.convolutional.conv2d.Conv2D object at 0x7f8c38159730>\n",
            "<keras.layers.pooling.max_pooling2d.MaxPooling2D object at 0x7f8c3815d250>\n",
            "<keras.layers.convolutional.conv2d.Conv2D object at 0x7f8c38159640>\n",
            "<keras.layers.convolutional.conv2d.Conv2D object at 0x7f8c380a1340>\n",
            "<keras.layers.convolutional.conv2d.Conv2D object at 0x7f8c380a1670>\n",
            "<keras.layers.pooling.max_pooling2d.MaxPooling2D object at 0x7f8c380af550>\n",
            "<keras.layers.convolutional.conv2d.Conv2D object at 0x7f8c380a43d0>\n",
            "<keras.layers.convolutional.conv2d.Conv2D object at 0x7f8c380b6a30>\n",
            "<keras.layers.convolutional.conv2d.Conv2D object at 0x7f8c380b66a0>\n",
            "<keras.layers.pooling.max_pooling2d.MaxPooling2D object at 0x7f8c380c2070>\n",
            "<keras.layers.convolutional.conv2d.Conv2D object at 0x7f8c380c2e20>\n",
            "<keras.layers.convolutional.conv2d.Conv2D object at 0x7f8c380c2340>\n",
            "<keras.layers.convolutional.conv2d.Conv2D object at 0x7f8c380c8430>\n",
            "<keras.layers.pooling.max_pooling2d.MaxPooling2D object at 0x7f8c380cbc10>\n"
          ]
        }
      ]
    },
    {
      "cell_type": "code",
      "execution_count": 22,
      "metadata": {
        "id": "Rx7AkOQIoQpF"
      },
      "outputs": [],
      "source": [
        "# don't train existing weights\n",
        "for layer in vgg16.layers:\n",
        "    layer.trainable = False"
      ]
    },
    {
      "cell_type": "code",
      "source": [
        "for layer in vgg16.layers:\n",
        "  print(layer.name,layer.trainable)"
      ],
      "metadata": {
        "colab": {
          "base_uri": "https://localhost:8080/"
        },
        "id": "wNtlHqA8pyBx",
        "outputId": "bc78734f-0d6b-42fa-c02a-68be51e81be0"
      },
      "execution_count": 23,
      "outputs": [
        {
          "output_type": "stream",
          "name": "stdout",
          "text": [
            "input_2 False\n",
            "block1_conv1 False\n",
            "block1_conv2 False\n",
            "block1_pool False\n",
            "block2_conv1 False\n",
            "block2_conv2 False\n",
            "block2_pool False\n",
            "block3_conv1 False\n",
            "block3_conv2 False\n",
            "block3_conv3 False\n",
            "block3_pool False\n",
            "block4_conv1 False\n",
            "block4_conv2 False\n",
            "block4_conv3 False\n",
            "block4_pool False\n",
            "block5_conv1 False\n",
            "block5_conv2 False\n",
            "block5_conv3 False\n",
            "block5_pool False\n"
          ]
        }
      ]
    },
    {
      "cell_type": "code",
      "source": [
        "vgg16.summary()"
      ],
      "metadata": {
        "id": "5WBu-g3rqIcw",
        "outputId": "8a8d85d7-104c-47e0-b9ab-68b79cdabb44",
        "colab": {
          "base_uri": "https://localhost:8080/"
        }
      },
      "execution_count": 24,
      "outputs": [
        {
          "output_type": "stream",
          "name": "stdout",
          "text": [
            "Model: \"vgg16\"\n",
            "_________________________________________________________________\n",
            " Layer (type)                Output Shape              Param #   \n",
            "=================================================================\n",
            " input_2 (InputLayer)        [(None, 224, 224, 3)]     0         \n",
            "                                                                 \n",
            " block1_conv1 (Conv2D)       (None, 224, 224, 64)      1792      \n",
            "                                                                 \n",
            " block1_conv2 (Conv2D)       (None, 224, 224, 64)      36928     \n",
            "                                                                 \n",
            " block1_pool (MaxPooling2D)  (None, 112, 112, 64)      0         \n",
            "                                                                 \n",
            " block2_conv1 (Conv2D)       (None, 112, 112, 128)     73856     \n",
            "                                                                 \n",
            " block2_conv2 (Conv2D)       (None, 112, 112, 128)     147584    \n",
            "                                                                 \n",
            " block2_pool (MaxPooling2D)  (None, 56, 56, 128)       0         \n",
            "                                                                 \n",
            " block3_conv1 (Conv2D)       (None, 56, 56, 256)       295168    \n",
            "                                                                 \n",
            " block3_conv2 (Conv2D)       (None, 56, 56, 256)       590080    \n",
            "                                                                 \n",
            " block3_conv3 (Conv2D)       (None, 56, 56, 256)       590080    \n",
            "                                                                 \n",
            " block3_pool (MaxPooling2D)  (None, 28, 28, 256)       0         \n",
            "                                                                 \n",
            " block4_conv1 (Conv2D)       (None, 28, 28, 512)       1180160   \n",
            "                                                                 \n",
            " block4_conv2 (Conv2D)       (None, 28, 28, 512)       2359808   \n",
            "                                                                 \n",
            " block4_conv3 (Conv2D)       (None, 28, 28, 512)       2359808   \n",
            "                                                                 \n",
            " block4_pool (MaxPooling2D)  (None, 14, 14, 512)       0         \n",
            "                                                                 \n",
            " block5_conv1 (Conv2D)       (None, 14, 14, 512)       2359808   \n",
            "                                                                 \n",
            " block5_conv2 (Conv2D)       (None, 14, 14, 512)       2359808   \n",
            "                                                                 \n",
            " block5_conv3 (Conv2D)       (None, 14, 14, 512)       2359808   \n",
            "                                                                 \n",
            " block5_pool (MaxPooling2D)  (None, 7, 7, 512)         0         \n",
            "                                                                 \n",
            "=================================================================\n",
            "Total params: 14,714,688\n",
            "Trainable params: 0\n",
            "Non-trainable params: 14,714,688\n",
            "_________________________________________________________________\n"
          ]
        }
      ]
    },
    {
      "cell_type": "code",
      "execution_count": 25,
      "metadata": {
        "id": "N5TBzMtLoQpF"
      },
      "outputs": [],
      "source": [
        "  # useful for getting number of output classes\n",
        "folders = glob('PetImages/train/*')"
      ]
    },
    {
      "cell_type": "code",
      "execution_count": 26,
      "metadata": {
        "colab": {
          "base_uri": "https://localhost:8080/"
        },
        "id": "mEAc82BQoQpF",
        "outputId": "2fd43add-1f24-41d9-baf0-91ec55b7d5ff"
      },
      "outputs": [
        {
          "output_type": "execute_result",
          "data": {
            "text/plain": [
              "['PetImages/train/Dog', 'PetImages/train/Cat']"
            ]
          },
          "metadata": {},
          "execution_count": 26
        }
      ],
      "source": [
        "folders"
      ]
    },
    {
      "cell_type": "code",
      "source": [
        "len(folders)"
      ],
      "metadata": {
        "colab": {
          "base_uri": "https://localhost:8080/"
        },
        "id": "TxWePQ04vWG0",
        "outputId": "c19d9704-7086-492f-e075-15e502ae2fa8"
      },
      "execution_count": 27,
      "outputs": [
        {
          "output_type": "execute_result",
          "data": {
            "text/plain": [
              "2"
            ]
          },
          "metadata": {},
          "execution_count": 27
        }
      ]
    },
    {
      "cell_type": "code",
      "source": [
        "model = Sequential()\n",
        "\n",
        "model.add(vgg16)\n",
        "model.add(Flatten())\n",
        "model.add(Dense(256,activation='relu'))\n",
        "model.add(Dense(2,activation='softmax'))"
      ],
      "metadata": {
        "id": "az2MrlO7vcfE"
      },
      "execution_count": 28,
      "outputs": []
    },
    {
      "cell_type": "code",
      "execution_count": 29,
      "metadata": {
        "colab": {
          "base_uri": "https://localhost:8080/"
        },
        "id": "pCbQyhRloQpG",
        "outputId": "bea07cd0-0d2f-42e5-84cd-baf8a211a96d"
      },
      "outputs": [
        {
          "output_type": "stream",
          "name": "stdout",
          "text": [
            "Model: \"sequential\"\n",
            "_________________________________________________________________\n",
            " Layer (type)                Output Shape              Param #   \n",
            "=================================================================\n",
            " vgg16 (Functional)          (None, 7, 7, 512)         14714688  \n",
            "                                                                 \n",
            " flatten (Flatten)           (None, 25088)             0         \n",
            "                                                                 \n",
            " dense (Dense)               (None, 256)               6422784   \n",
            "                                                                 \n",
            " dense_1 (Dense)             (None, 2)                 514       \n",
            "                                                                 \n",
            "=================================================================\n",
            "Total params: 21,137,986\n",
            "Trainable params: 6,423,298\n",
            "Non-trainable params: 14,714,688\n",
            "_________________________________________________________________\n"
          ]
        }
      ],
      "source": [
        "# view the structure of the model\n",
        "model.summary()"
      ]
    },
    {
      "cell_type": "code",
      "execution_count": 30,
      "metadata": {
        "id": "_v9RaVP0oQpG"
      },
      "outputs": [],
      "source": [
        "# tell the model what cost and optimization method to use\n",
        "model.compile(\n",
        "  loss='categorical_crossentropy',\n",
        "  optimizer='adam',\n",
        "  metrics=['accuracy']\n",
        ")\n"
      ]
    },
    {
      "cell_type": "code",
      "execution_count": 31,
      "metadata": {
        "id": "ccGtjaZBoQpH"
      },
      "outputs": [],
      "source": [
        "# Use the Image Data Generator to import the images from the dataset\n",
        "from tensorflow.keras.preprocessing.image import ImageDataGenerator\n",
        "\n",
        "train_datagen = ImageDataGenerator(rescale = 1./255,\n",
        "                                   shear_range = 0.2,\n",
        "                                   zoom_range = 0.2,\n",
        "                                   horizontal_flip = True)\n",
        "\n",
        "test_datagen = ImageDataGenerator(rescale = 1./255)"
      ]
    },
    {
      "cell_type": "code",
      "source": [
        "!pwd"
      ],
      "metadata": {
        "colab": {
          "base_uri": "https://localhost:8080/"
        },
        "id": "QRP78ABJbyRt",
        "outputId": "ff76f95e-eb01-4037-d223-b1b0a93d3416"
      },
      "execution_count": 32,
      "outputs": [
        {
          "output_type": "stream",
          "name": "stdout",
          "text": [
            "/content/drive/MyDrive/Deep Learning Project\n"
          ]
        }
      ]
    },
    {
      "cell_type": "code",
      "execution_count": 33,
      "metadata": {
        "colab": {
          "base_uri": "https://localhost:8080/"
        },
        "id": "as_UVGKeoQpH",
        "outputId": "5dc6c96e-4b44-4ff4-b1e4-4d74163542eb"
      },
      "outputs": [
        {
          "output_type": "stream",
          "name": "stdout",
          "text": [
            "Found 337 images belonging to 2 classes.\n"
          ]
        }
      ],
      "source": [
        "# Make sure you provide the same target size as initialied for the image size\n",
        "training_set = train_datagen.flow_from_directory('PetImages/train',\n",
        "                                                 target_size = (224, 224),\n",
        "                                                 batch_size = 32,\n",
        "                                                 class_mode = 'categorical')"
      ]
    },
    {
      "cell_type": "code",
      "execution_count": 34,
      "metadata": {
        "colab": {
          "base_uri": "https://localhost:8080/"
        },
        "id": "TGVUtA-8oQpH",
        "outputId": "c9f98c25-1713-4262-ffca-75fe3dd57abe"
      },
      "outputs": [
        {
          "output_type": "stream",
          "name": "stdout",
          "text": [
            "Found 59 images belonging to 2 classes.\n"
          ]
        }
      ],
      "source": [
        "test_set = test_datagen.flow_from_directory('PetImages/validation',\n",
        "                                            target_size = (224, 224),\n",
        "                                            batch_size = 32,\n",
        "                                            class_mode = 'categorical')"
      ]
    },
    {
      "cell_type": "code",
      "execution_count": 35,
      "metadata": {
        "scrolled": true,
        "colab": {
          "base_uri": "https://localhost:8080/"
        },
        "id": "JbP-SQBhoQpH",
        "outputId": "c2c884bb-ef9c-47da-d61e-cf0a26acb0d4"
      },
      "outputs": [
        {
          "output_type": "stream",
          "name": "stdout",
          "text": [
            "Epoch 1/10\n",
            "11/11 [==============================] - 60s 4s/step - loss: 3.9401 - accuracy: 0.5163 - val_loss: 0.9696 - val_accuracy: 0.5085\n",
            "Epoch 2/10\n",
            "11/11 [==============================] - 7s 632ms/step - loss: 0.5333 - accuracy: 0.7685 - val_loss: 0.4314 - val_accuracy: 0.8475\n",
            "Epoch 3/10\n",
            "11/11 [==============================] - 6s 511ms/step - loss: 0.2515 - accuracy: 0.8783 - val_loss: 0.3767 - val_accuracy: 0.8475\n",
            "Epoch 4/10\n",
            "11/11 [==============================] - 7s 618ms/step - loss: 0.1680 - accuracy: 0.9288 - val_loss: 0.3680 - val_accuracy: 0.8305\n",
            "Epoch 5/10\n",
            "11/11 [==============================] - 6s 529ms/step - loss: 0.1143 - accuracy: 0.9614 - val_loss: 0.3766 - val_accuracy: 0.8136\n",
            "Epoch 6/10\n",
            "11/11 [==============================] - 7s 622ms/step - loss: 0.0922 - accuracy: 0.9733 - val_loss: 0.4000 - val_accuracy: 0.8136\n",
            "Epoch 7/10\n",
            "11/11 [==============================] - 6s 506ms/step - loss: 0.0731 - accuracy: 0.9881 - val_loss: 0.4284 - val_accuracy: 0.8136\n",
            "Epoch 8/10\n",
            "11/11 [==============================] - 7s 650ms/step - loss: 0.0618 - accuracy: 0.9911 - val_loss: 0.4477 - val_accuracy: 0.7966\n",
            "Epoch 9/10\n",
            "11/11 [==============================] - 6s 510ms/step - loss: 0.0409 - accuracy: 1.0000 - val_loss: 0.4735 - val_accuracy: 0.7966\n",
            "Epoch 10/10\n",
            "11/11 [==============================] - 7s 610ms/step - loss: 0.0553 - accuracy: 0.9911 - val_loss: 0.4978 - val_accuracy: 0.7966\n"
          ]
        }
      ],
      "source": [
        "# fit the model\n",
        "# Run the cell. It will take some time to execute\n",
        "r = model.fit(\n",
        "  training_set,\n",
        "  validation_data=test_set,\n",
        "  epochs=10,\n",
        "  steps_per_epoch=len(training_set),\n",
        "  validation_steps=len(test_set)\n",
        ")"
      ]
    },
    {
      "cell_type": "code",
      "execution_count": 36,
      "metadata": {
        "id": "o1Ko1dSsoQpI"
      },
      "outputs": [],
      "source": [
        "import matplotlib.pyplot as plt"
      ]
    },
    {
      "cell_type": "code",
      "source": [
        "# plot the loss\n",
        "plt.plot(r.history['loss'], label='train loss')\n",
        "plt.plot(r.history['val_loss'], label='val loss')\n",
        "plt.legend()\n",
        "plt.show()\n",
        "plt.savefig('LossVal_loss')"
      ],
      "metadata": {
        "colab": {
          "base_uri": "https://localhost:8080/",
          "height": 282
        },
        "id": "7vQo-eqrxD8N",
        "outputId": "65342e14-5fbb-4bb7-b979-64c7f2bf238a"
      },
      "execution_count": 37,
      "outputs": [
        {
          "output_type": "display_data",
          "data": {
            "text/plain": [
              "<Figure size 432x288 with 1 Axes>"
            ],
            "image/png": "[encoded data removed]"
          },
          "metadata": {
            "needs_background": "light"
          }
        },
        {
          "output_type": "display_data",
          "data": {
            "text/plain": [
              "<Figure size 432x288 with 0 Axes>"
            ]
          },
          "metadata": {}
        }
      ]
    },
    {
      "cell_type": "code",
      "execution_count": 38,
      "metadata": {
        "colab": {
          "base_uri": "https://localhost:8080/",
          "height": 282
        },
        "id": "4qCxYaAPoQpI",
        "outputId": "cd43befe-a276-4a08-8ad2-bbcb5290acfc"
      },
      "outputs": [
        {
          "output_type": "display_data",
          "data": {
            "text/plain": [
              "<Figure size 432x288 with 1 Axes>"
            ],
            "image/png": "[encoded data removed]"
          },
          "metadata": {
            "needs_background": "light"
          }
        },
        {
          "output_type": "display_data",
          "data": {
            "text/plain": [
              "<Figure size 432x288 with 0 Axes>"
            ]
          },
          "metadata": {}
        }
      ],
      "source": [
        "# plot the accuracy\n",
        "plt.plot(r.history['accuracy'], label='train acc')\n",
        "plt.plot(r.history['val_accuracy'], label='val acc')\n",
        "plt.legend()\n",
        "plt.show()\n",
        "plt.savefig('AccVal_acc')"
      ]
    },
    {
      "cell_type": "code",
      "execution_count": 39,
      "metadata": {
        "id": "COqsN_kDoQpI"
      },
      "outputs": [],
      "source": [
        "# save it as a h5 file\n",
        "from tensorflow.keras.models import load_model\n",
        "\n",
        "model.save('model_vgg16.h5')"
      ]
    },
    {
      "cell_type": "code",
      "execution_count": 40,
      "metadata": {
        "colab": {
          "base_uri": "https://localhost:8080/"
        },
        "id": "x4D5sLfpoQpI",
        "outputId": "c9252a5e-a428-44c8-eba1-d1b5c6b3d781"
      },
      "outputs": [
        {
          "output_type": "stream",
          "name": "stdout",
          "text": [
            "2/2 [==============================] - 1s 164ms/step\n"
          ]
        }
      ],
      "source": [
        "y_pred = model.predict(test_set)"
      ]
    },
    {
      "cell_type": "code",
      "execution_count": 41,
      "metadata": {
        "colab": {
          "base_uri": "https://localhost:8080/"
        },
        "id": "wtlfFRrRoQpI",
        "outputId": "83dcd49b-035a-4f16-edd3-a9d8a5befc7b"
      },
      "outputs": [
        {
          "output_type": "execute_result",
          "data": {
            "text/plain": [
              "array([[9.99837041e-01, 1.62909666e-04],\n",
              "       [4.18566354e-03, 9.95814383e-01],\n",
              "       [9.99819934e-01, 1.80078307e-04],\n",
              "       [8.61350927e-05, 9.99913812e-01],\n",
              "       [9.97320950e-01, 2.67908932e-03],\n",
              "       [1.80056944e-01, 8.19943070e-01],\n",
              "       [2.26834714e-02, 9.77316558e-01],\n",
              "       [9.99898791e-01, 1.01197562e-04],\n",
              "       [8.17122564e-05, 9.99918222e-01],\n",
              "       [3.64626572e-02, 9.63537335e-01],\n",
              "       [7.88205683e-01, 2.11794391e-01],\n",
              "       [2.61382222e-01, 7.38617778e-01],\n",
              "       [9.90740895e-01, 9.25916061e-03],\n",
              "       [9.95695591e-01, 4.30441648e-03],\n",
              "       [1.59348682e-01, 8.40651274e-01],\n",
              "       [6.40071034e-02, 9.35992897e-01],\n",
              "       [9.60354805e-01, 3.96451764e-02],\n",
              "       [9.98676836e-01, 1.32316165e-03],\n",
              "       [4.53871053e-06, 9.99995470e-01],\n",
              "       [2.47118751e-05, 9.99975324e-01],\n",
              "       [5.94677687e-01, 4.05322313e-01],\n",
              "       [4.00766581e-01, 5.99233389e-01],\n",
              "       [9.97915089e-01, 2.08494719e-03],\n",
              "       [4.13340097e-03, 9.95866656e-01],\n",
              "       [4.82272059e-01, 5.17727911e-01],\n",
              "       [6.28983527e-02, 9.37101662e-01],\n",
              "       [9.70998108e-01, 2.90018786e-02],\n",
              "       [9.96212482e-01, 3.78753664e-03],\n",
              "       [4.09523910e-03, 9.95904744e-01],\n",
              "       [9.16053712e-01, 8.39463100e-02],\n",
              "       [9.69448864e-01, 3.05511281e-02],\n",
              "       [8.84186864e-01, 1.15813158e-01],\n",
              "       [9.97960448e-01, 2.03951099e-03],\n",
              "       [2.75330245e-01, 7.24669814e-01],\n",
              "       [9.99809921e-01, 1.90136314e-04],\n",
              "       [1.11386716e-01, 8.88613284e-01],\n",
              "       [9.99897003e-01, 1.02930790e-04],\n",
              "       [7.63053424e-04, 9.99236941e-01],\n",
              "       [4.33409996e-02, 9.56659019e-01],\n",
              "       [8.29704106e-01, 1.70295939e-01],\n",
              "       [4.70407635e-01, 5.29592395e-01],\n",
              "       [3.45719818e-05, 9.99965429e-01],\n",
              "       [9.99434531e-01, 5.65408729e-04],\n",
              "       [3.07580988e-10, 1.00000000e+00],\n",
              "       [1.06656365e-01, 8.93343568e-01],\n",
              "       [9.76271629e-01, 2.37283893e-02],\n",
              "       [9.42095183e-03, 9.90579069e-01],\n",
              "       [9.95926499e-01, 4.07349085e-03],\n",
              "       [9.88248467e-01, 1.17515037e-02],\n",
              "       [9.98414755e-01, 1.58527237e-03],\n",
              "       [8.49626243e-01, 1.50373772e-01],\n",
              "       [9.42334950e-01, 5.76650612e-02],\n",
              "       [5.12539633e-02, 9.48746085e-01],\n",
              "       [9.79888380e-01, 2.01115906e-02],\n",
              "       [9.62469518e-01, 3.75304408e-02],\n",
              "       [9.98799682e-01, 1.20025186e-03],\n",
              "       [9.11522329e-01, 8.84776786e-02],\n",
              "       [1.47579412e-03, 9.98524249e-01],\n",
              "       [5.59065193e-02, 9.44093525e-01]], dtype=float32)"
            ]
          },
          "metadata": {},
          "execution_count": 41
        }
      ],
      "source": [
        "y_pred"
      ]
    },
    {
      "cell_type": "code",
      "execution_count": 42,
      "metadata": {
        "id": "C-ICKy-5oQpJ"
      },
      "outputs": [],
      "source": [
        "import numpy as np\n",
        "y_pred = np.argmax(y_pred, axis=1)"
      ]
    },
    {
      "cell_type": "code",
      "execution_count": 43,
      "metadata": {
        "colab": {
          "base_uri": "https://localhost:8080/"
        },
        "id": "-GDhHDksoQpJ",
        "outputId": "546db532-430b-4305-acc5-12edcbabd200"
      },
      "outputs": [
        {
          "output_type": "execute_result",
          "data": {
            "text/plain": [
              "array([0, 1, 0, 1, 0, 1, 1, 0, 1, 1, 0, 1, 0, 0, 1, 1, 0, 0, 1, 1, 0, 1,\n",
              "       0, 1, 1, 1, 0, 0, 1, 0, 0, 0, 0, 1, 0, 1, 0, 1, 1, 0, 1, 1, 0, 1,\n",
              "       1, 0, 1, 0, 0, 0, 0, 0, 1, 0, 0, 0, 0, 1, 1])"
            ]
          },
          "metadata": {},
          "execution_count": 43
        }
      ],
      "source": [
        "y_pred"
      ]
    },
    {
      "cell_type": "code",
      "execution_count": 44,
      "metadata": {
        "id": "kqj7Au6FoQpJ"
      },
      "outputs": [],
      "source": [
        "from tensorflow.keras.models import load_model\n",
        "from tensorflow.keras.preprocessing import image"
      ]
    },
    {
      "cell_type": "code",
      "execution_count": 45,
      "metadata": {
        "id": "XL0M50cToQpJ"
      },
      "outputs": [],
      "source": [
        "model=load_model('model_vgg16.h5')"
      ]
    },
    {
      "cell_type": "code",
      "execution_count": 46,
      "metadata": {
        "id": "1LximTFLoQpJ"
      },
      "outputs": [],
      "source": [
        "img=image.load_img('cat.jpg',target_size=(224,224))"
      ]
    },
    {
      "cell_type": "code",
      "execution_count": 47,
      "metadata": {
        "colab": {
          "base_uri": "https://localhost:8080/"
        },
        "id": "MCqIwjCioQpJ",
        "outputId": "0bbe184e-42bf-4076-a1b7-5e6925205bcb"
      },
      "outputs": [
        {
          "output_type": "execute_result",
          "data": {
            "text/plain": [
              "array([[[ 36.,  41.,  37.],\n",
              "        [ 38.,  42.,  41.],\n",
              "        [ 38.,  42.,  43.],\n",
              "        ...,\n",
              "        [200., 200., 166.],\n",
              "        [200., 198., 160.],\n",
              "        [203., 201., 162.]],\n",
              "\n",
              "       [[ 38.,  43.,  39.],\n",
              "        [ 39.,  43.,  42.],\n",
              "        [ 40.,  44.,  45.],\n",
              "        ...,\n",
              "        [208., 205., 172.],\n",
              "        [205., 203., 165.],\n",
              "        [204., 202., 163.]],\n",
              "\n",
              "       [[ 42.,  47.,  43.],\n",
              "        [ 40.,  44.,  43.],\n",
              "        [ 40.,  44.,  45.],\n",
              "        ...,\n",
              "        [201., 198., 167.],\n",
              "        [201., 196., 164.],\n",
              "        [197., 193., 158.]],\n",
              "\n",
              "       ...,\n",
              "\n",
              "       [[ 30.,  28.,  29.],\n",
              "        [ 24.,  22.,  23.],\n",
              "        [ 21.,  19.,  20.],\n",
              "        ...,\n",
              "        [ 47.,  34.,  28.],\n",
              "        [ 40.,  27.,  21.],\n",
              "        [ 52.,  41.,  35.]],\n",
              "\n",
              "       [[ 34.,  32.,  33.],\n",
              "        [ 27.,  25.,  26.],\n",
              "        [ 24.,  22.,  23.],\n",
              "        ...,\n",
              "        [ 45.,  32.,  24.],\n",
              "        [ 44.,  31.,  23.],\n",
              "        [ 65.,  55.,  46.]],\n",
              "\n",
              "       [[ 30.,  28.,  29.],\n",
              "        [ 26.,  24.,  25.],\n",
              "        [ 24.,  22.,  23.],\n",
              "        ...,\n",
              "        [ 54.,  41.,  33.],\n",
              "        [ 61.,  48.,  40.],\n",
              "        [ 38.,  28.,  19.]]], dtype=float32)"
            ]
          },
          "metadata": {},
          "execution_count": 47
        }
      ],
      "source": [
        "x=image.img_to_array(img)\n",
        "x"
      ]
    },
    {
      "cell_type": "code",
      "source": [
        "Z = plt.imread('cat.jpg')\n",
        "plt.imshow(Z)"
      ],
      "metadata": {
        "colab": {
          "base_uri": "https://localhost:8080/",
          "height": 286
        },
        "id": "ndGBT7Ns1xED",
        "outputId": "e671a3cd-e638-40bb-b7a2-b803abb46f03"
      },
      "execution_count": 48,
      "outputs": [
        {
          "output_type": "execute_result",
          "data": {
            "text/plain": [
              "<matplotlib.image.AxesImage at 0x7f8ba853bca0>"
            ]
          },
          "metadata": {},
          "execution_count": 48
        },
        {
          "output_type": "display_data",
          "data": {
            "text/plain": [
              "<Figure size 432x288 with 1 Axes>"
            ],
            "image/png": "[encoded data removed]"
          },
          "metadata": {
            "needs_background": "light"
          }
        }
      ]
    },
    {
      "cell_type": "code",
      "execution_count": 49,
      "metadata": {
        "colab": {
          "base_uri": "https://localhost:8080/"
        },
        "id": "XcmlehPvoQpJ",
        "outputId": "70edf22f-ce65-4d1e-ad68-49e753640469"
      },
      "outputs": [
        {
          "output_type": "execute_result",
          "data": {
            "text/plain": [
              "(224, 224, 3)"
            ]
          },
          "metadata": {},
          "execution_count": 49
        }
      ],
      "source": [
        "x.shape"
      ]
    },
    {
      "cell_type": "code",
      "execution_count": 50,
      "metadata": {
        "id": "-JxBg8BuoQpK"
      },
      "outputs": [],
      "source": [
        "x=x/255"
      ]
    },
    {
      "cell_type": "code",
      "source": [
        "from keras.applications.vgg16 import preprocess_input"
      ],
      "metadata": {
        "id": "j76htW2Myj1v"
      },
      "execution_count": 51,
      "outputs": []
    },
    {
      "cell_type": "code",
      "execution_count": 52,
      "metadata": {
        "colab": {
          "base_uri": "https://localhost:8080/"
        },
        "id": "4TPPbmbpoQpK",
        "outputId": "cbc608ba-8732-4e92-a6e9-3032d611a810"
      },
      "outputs": [
        {
          "output_type": "execute_result",
          "data": {
            "text/plain": [
              "(1, 224, 224, 3)"
            ]
          },
          "metadata": {},
          "execution_count": 52
        }
      ],
      "source": [
        "import numpy as np\n",
        "x=np.expand_dims(x,axis=0)\n",
        "img_data=preprocess_input(x)\n",
        "img_data.shape"
      ]
    },
    {
      "cell_type": "code",
      "execution_count": 53,
      "metadata": {
        "colab": {
          "base_uri": "https://localhost:8080/"
        },
        "id": "YycqMzQMoQpK",
        "outputId": "34cb6004-d2d2-4dcb-e79c-93e9758e7b48"
      },
      "outputs": [
        {
          "output_type": "stream",
          "name": "stdout",
          "text": [
            "1/1 [==============================] - 1s 901ms/step\n"
          ]
        },
        {
          "output_type": "execute_result",
          "data": {
            "text/plain": [
              "array([[0.9522597 , 0.04774027]], dtype=float32)"
            ]
          },
          "metadata": {},
          "execution_count": 53
        }
      ],
      "source": [
        "model.predict(img_data)"
      ]
    },
    {
      "cell_type": "code",
      "execution_count": 54,
      "metadata": {
        "colab": {
          "base_uri": "https://localhost:8080/"
        },
        "id": "JCnpd8rCoQpK",
        "outputId": "f526ea04-6d27-4ddf-9d3f-2a02b5cdf5cf"
      },
      "outputs": [
        {
          "output_type": "stream",
          "name": "stdout",
          "text": [
            "1/1 [==============================] - 0s 49ms/step\n"
          ]
        }
      ],
      "source": [
        "result = np.argmax(model.predict(img_data), axis=1)"
      ]
    },
    {
      "cell_type": "code",
      "execution_count": 55,
      "metadata": {
        "colab": {
          "base_uri": "https://localhost:8080/"
        },
        "id": "N0olnSIooQpK",
        "outputId": "68e034b8-65d0-4d8c-db85-8258c10861a9"
      },
      "outputs": [
        {
          "output_type": "execute_result",
          "data": {
            "text/plain": [
              "0"
            ]
          },
          "metadata": {},
          "execution_count": 55
        }
      ],
      "source": [
        "result[0]"
      ]
    },
    {
      "cell_type": "code",
      "execution_count": 56,
      "metadata": {
        "id": "w2J4Puf3oQpK",
        "colab": {
          "base_uri": "https://localhost:8080/"
        },
        "outputId": "4db1014e-cf6a-430f-f538-a3e2890b5b5c"
      },
      "outputs": [
        {
          "output_type": "stream",
          "name": "stdout",
          "text": [
            "cat\n"
          ]
        }
      ],
      "source": [
        "if result[0] == 1:\n",
        "    prediction = 'dog'\n",
        "    print(prediction)\n",
        "else:\n",
        "    prediction = 'cat'\n",
        "    print(prediction)"
      ]
    },
    {
      "cell_type": "code",
      "source": [],
      "metadata": {
        "id": "WYXzJO0l0wB1"
      },
      "execution_count": null,
      "outputs": []
    }
  ],
  "metadata": {
    "kernelspec": {
      "display_name": "Python 3",
      "language": "python",
      "name": "python3"
    },
    "language_info": {
      "codemirror_mode": {
        "name": "ipython",
        "version": 3
      },
      "file_extension": ".py",
      "mimetype": "text/x-python",
      "name": "python",
      "nbconvert_exporter": "python",
      "pygments_lexer": "ipython3",
      "version": "3.7.7"
    },
    "colab": {
      "provenance": [],
      "machine_shape": "hm"
    },
    "accelerator": "GPU",
    "gpuClass": "standard"
  },
  "nbformat": 4,
  "nbformat_minor": 0
}